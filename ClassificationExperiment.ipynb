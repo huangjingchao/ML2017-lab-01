{
 "cells": [
  {
   "cell_type": "code",
   "execution_count": 21,
   "metadata": {
    "collapsed": true
   },
   "outputs": [],
   "source": [
    "#读取数据\n",
    "from sklearn.externals.joblib import Memory \n",
    "from sklearn.datasets import load_svmlight_file \n",
    "import numpy as np\n",
    "\n",
    "def get_data():\n",
    "    data = load_svmlight_file(\"australian_scale\")\n",
    "    return data[0],data[1]\n",
    "\n",
    "data_x,data_y = get_data()"
   ]
  },
  {
   "cell_type": "code",
   "execution_count": 22,
   "metadata": {
    "collapsed": true
   },
   "outputs": [],
   "source": [
    "#切分数据\n",
    "from sklearn.model_selection import train_test_split\n",
    "x_train,x_test,y_train,y_test = train_test_split(data_x,data_y,test_size=0.33,random_state=42)\n",
    "\n",
    "y_train = np.mat(y_train).T\n",
    "y_test = np.mat(y_test).T"
   ]
  },
  {
   "cell_type": "code",
   "execution_count": 23,
   "metadata": {
    "collapsed": true
   },
   "outputs": [],
   "source": [
    "#初始化\n",
    "w = np.mat(np.random.random([x_train.shape[1],1]))\n",
    "b = np.random.random()"
   ]
  },
  {
   "cell_type": "code",
   "execution_count": 24,
   "metadata": {},
   "outputs": [
    {
     "name": "stdout",
     "output_type": "stream",
     "text": [
      "[[-0.02762012]\n",
      " [-0.10836609]\n",
      " [ 0.13151828]\n",
      " [ 0.7277559 ]\n",
      " [ 0.6674033 ]\n",
      " [ 0.34954514]\n",
      " [ 0.35301247]\n",
      " [ 1.19494157]\n",
      " [ 0.21038549]\n",
      " [ 0.40865992]\n",
      " [-0.04138259]\n",
      " [ 0.2057826 ]\n",
      " [-0.18120889]\n",
      " [ 0.03804752]] [[ 2.96915217]]\n"
     ]
    }
   ],
   "source": [
    "import matplotlib.pyplot as plt\n",
    "\n",
    "m_train = x_train.shape[0]\n",
    "m_test = x_test.shape[0]\n",
    "Loss_train = []\n",
    "Loss_test = []\n",
    "x = []\n",
    "for n in range(1,50):\n",
    "    x.append(n)\n",
    "    G_w = np.zeros([x_train.shape[1],1])\n",
    "    G_b = 0\n",
    "    C =100000\n",
    "\n",
    "    for n in range(0,m_train):\n",
    "        result = 1 - y_train[n]*(w.T*x_train[n].T+b)\n",
    "        \n",
    "        if(result>=0):\n",
    "            G_w = G_w + (w-C*x_train[n].T*y_train[n])\n",
    "            G_b = G_b + (-C*y_train[n])\n",
    "\n",
    "        elif(result<0):\n",
    "            G_w = G_w + (w)\n",
    "            G_b = G_b\n",
    "            \n",
    "    D_w = -G_w\n",
    "    D_b = -G_b\n",
    "\n",
    "    learn_rate = 0.00000001\n",
    "\n",
    "    w = w + learn_rate*D_w\n",
    "    b = b + learn_rate*D_b\n",
    "\n",
    "    yu = 0\n",
    "\n",
    "    Loss_test_sum = 0\n",
    "    fore = []\n",
    "    for n in range(0,m_test):\n",
    "        result = w.T*x_test[n].T+b\n",
    "        if(result>=0):\n",
    "            fore.append(1)\n",
    "\n",
    "        elif(result<0):\n",
    "            fore.append(-1)\n",
    "    \n",
    "    r = 0\n",
    "    for n in range(1,m_test):\n",
    "        if(fore[n]==y_test[n]):\n",
    "            r = r+1\n",
    "        else:\n",
    "            r = r\n",
    "    \n",
    "    Loss_test.append(r/m_test)\n",
    "\n",
    "\n",
    "\n",
    "x = x\n",
    "y = Loss_test\n",
    "\n",
    "print(w,w.T*w)\n"
   ]
  },
  {
   "cell_type": "code",
   "execution_count": 25,
   "metadata": {},
   "outputs": [
    {
     "data": {
      "image/png": "[encoded data removed]",
      "text/plain": [
       "<matplotlib.figure.Figure at 0x7ff73c99cb00>"
      ]
     },
     "metadata": {},
     "output_type": "display_data"
    }
   ],
   "source": [
    "plt.plot(x, y)\n",
    "plt.show()"
   ]
  },
  {
   "cell_type": "code",
   "execution_count": null,
   "metadata": {
    "collapsed": true
   },
   "outputs": [],
   "source": []
  }
 ],
 "metadata": {
  "kernelspec": {
   "display_name": "Python 3",
   "language": "python",
   "name": "python3"
  },
  "language_info": {
   "codemirror_mode": {
    "name": "ipython",
    "version": 3
   },
   "file_extension": ".py",
   "mimetype": "text/x-python",
   "name": "python",
   "nbconvert_exporter": "python",
   "pygments_lexer": "ipython3",
   "version": "3.6.2"
  }
 },
 "nbformat": 4,
 "nbformat_minor": 2
}
