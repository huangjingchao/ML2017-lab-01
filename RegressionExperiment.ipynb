{
 "cells": [
  {
   "cell_type": "code",
   "execution_count": 28,
   "metadata": {
    "collapsed": true
   },
   "outputs": [],
   "source": [
    "#读取数据\n",
    "from sklearn.externals.joblib import Memory  \n",
    "from sklearn.datasets import load_svmlight_file \n",
    "import numpy as np\n",
    "\n",
    "def get_data():\n",
    "    data = load_svmlight_file(\"housing_scale\")\n",
    "    return data[0],data[1]\n",
    "\n",
    "data_x,data_y = get_data()"
   ]
  },
  {
   "cell_type": "code",
   "execution_count": 29,
   "metadata": {
    "collapsed": true
   },
   "outputs": [],
   "source": [
    "#切分数据\n",
    "from sklearn.model_selection import train_test_split\n",
    "\n",
    "x_train,x_valid,y_train,y_valid = train_test_split(data_x,data_y,test_size=0.33,random_state=42) \n",
    "\n",
    "y_train = np.mat(y_train).T\n",
    "y_valid = np.mat(y_valid).T"
   ]
  },
  {
   "cell_type": "code",
   "execution_count": 30,
   "metadata": {
    "collapsed": true
   },
   "outputs": [],
   "source": [
    "#初始化线性模型参数\n",
    "w = np.mat(np.random.random([14,1]))"
   ]
  },
  {
   "cell_type": "code",
   "execution_count": 31,
   "metadata": {},
   "outputs": [
    {
     "name": "stdout",
     "output_type": "stream",
     "text": [
      "Loss of Training set after the last interation:   12.7923037633\n",
      "Loss of Validation set after the last interation: 12.2776344044\n"
     ]
    },
    {
     "data": {
      "image/png": "[encoded data removed]",
      "text/plain": [
       "<matplotlib.figure.Figure at 0x7fb45f8a47b8>"
      ]
     },
     "metadata": {},
     "output_type": "display_data"
    }
   ],
   "source": [
    "from scipy import sparse \n",
    "import matplotlib.pyplot as plt\n",
    "\n",
    "m_train = x_train.shape[0]    #训练数量\n",
    "m_valid = x_valid.shape[0]    #验证数量\n",
    "\n",
    "x_1_train = np.ones((m_train,1),dtype='float64')   #创造 [1,1,……,1]^T\n",
    "X_train = sparse.hstack((x_train,x_1_train))       #归并 x_train 和 [1,1,……,1]^T\n",
    "\n",
    "x_1_valid = np.ones((x_valid.shape[0],1),dtype='float64')    #创造 [1,1,……,1]^T\n",
    "X_valid = sparse.hstack((x_valid,x_1_valid))                 #归并 x_valid 和 [1,1,……,1]^T\n",
    "\n",
    "Loss_train = []    #Loss_train-axis\n",
    "Loss_valid = []    #Loss_valid-axis\n",
    "x = []             #x-axis:迭代次数\n",
    "\n",
    "for n in range(0,200):    #重复200次\n",
    "    \n",
    "    #求得所有样本对Loss函数的梯度G\n",
    "    G = (1/m_train)*((-X_train.T * y_train) + (X_train.T * X_train * w)) \n",
    "\n",
    "    D = -G                  #取梯度G的负方向，记为D\n",
    "\n",
    "    learn_rate = 0.05       #Learning rate\n",
    "\n",
    "    w = w + learn_rate*D    #更新模型参数\n",
    "\n",
    "    x.append(n)             #更新 x-axis\n",
    "    \n",
    "    #在训练集上测试并得到Loss函数值\n",
    "    Loss_train.append( ( 1/(2*m_train) * (y_train-X_train*w).T * (y_train-X_train*w) )[0,0])\n",
    "    Loss_valid.append( ( 1/(2*m_valid) * (y_valid-X_valid*w).T * (y_valid-X_valid*w) )[0,0])\n",
    "\n",
    "#画出Loss_train 和Loss_valid随迭代次数的变化图\n",
    "plt.plot(x, Loss_train)\n",
    "plt.plot(x, Loss_valid)\n",
    "\n",
    "#最后一次迭代后的Loss \n",
    "print(\"Loss of Training set after the last interation:   \"+str(Loss_train[199])\n",
    "      +\"\\nLoss of Validation set after the last interation: \"+str(Loss_valid[199]))\n"
   ]
  },
  {
   "cell_type": "code",
   "execution_count": 32,
   "metadata": {},
   "outputs": [
    {
     "name": "stdout",
     "output_type": "stream",
     "text": [
      "LinearRegression(copy_X=True, fit_intercept=True, n_jobs=1, normalize=False)\n",
      "[[ 12.63417379]]\n",
      "[[ 11.4909405]]\n",
      "  (0, 0)\t4.16589803005\n",
      "  (1, 0)\t2.23984360281\n",
      "  (2, 0)\t1.48082064496\n",
      "  (3, 0)\t2.48749811895\n",
      "  (4, 0)\t-2.30264763975\n",
      "  (5, 0)\t10.798580652\n",
      "  (6, 0)\t-1.07796043905\n",
      "  (7, 0)\t-5.30305350053\n",
      "  (8, 0)\t1.53161468748\n",
      "  (9, 0)\t-2.86872863665\n",
      "  (10, 0)\t-4.12754347534\n",
      "  (11, 0)\t1.77999406903\n",
      "  (12, 0)\t-9.47903712619\n",
      "  (13, 0)\t22.9707964602\n"
     ]
    }
   ],
   "source": [
    "from sklearn.linear_model import LinearRegression\n",
    "from sklearn.model_selection import train_test_split\n",
    "from scipy import sparse \n",
    "\n",
    "x_train,x_valid,y_train,y_valid = train_test_split(data_x,data_y,test_size=0.33,random_state=42)\n",
    "\n",
    "linreg = LinearRegression()\n",
    "model=linreg.fit(x_train, y_train)\n",
    "print (model)\n",
    "linreg.intercept_ = np.mat(linreg.intercept_)\n",
    "linreg.coef_ = np.mat(linreg.coef_)\n",
    "w = sparse.vstack((linreg.coef_.T,linreg.intercept_))\n",
    "\n",
    "y_train = np.mat(y_train).T\n",
    "y_valid = np.mat(y_valid).T\n",
    "\n",
    "\n",
    "x_1_train = np.ones((x_train.shape[0],1),dtype='float64')\n",
    "X_train = sparse.hstack((x_train,x_1_train))\n",
    "\n",
    "x_1_valid = np.ones((x_valid.shape[0],1),dtype='float64')\n",
    "X_valid = sparse.hstack((x_valid,x_1_valid))\n",
    "\n",
    "Loss_train = 1/(2*m_train) * np.mat((y_train- X_train*w).T) * (y_train- X_train*w)\n",
    "Loss_valid =1/(2*m_valid) * np.mat((y_valid- X_valid*w).T) * (y_valid- X_valid*w)\n",
    "print(Loss_train)\n",
    "print(Loss_valid)\n",
    "print(w)"
   ]
  },
  {
   "cell_type": "code",
   "execution_count": null,
   "metadata": {
    "collapsed": true
   },
   "outputs": [],
   "source": []
  }
 ],
 "metadata": {
  "kernelspec": {
   "display_name": "Python 3",
   "language": "python",
   "name": "python3"
  },
  "language_info": {
   "codemirror_mode": {
    "name": "ipython",
    "version": 3
   },
   "file_extension": ".py",
   "mimetype": "text/x-python",
   "name": "python",
   "nbconvert_exporter": "python",
   "pygments_lexer": "ipython3",
   "version": "3.6.2"
  }
 },
 "nbformat": 4,
 "nbformat_minor": 2
}
